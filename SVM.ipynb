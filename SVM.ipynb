{
 "cells": [
  {
   "cell_type": "markdown",
   "id": "e478f196",
   "metadata": {},
   "source": [
    " #                  Question 4 SVM Programming Assignment"
   ]
  },
  {
   "cell_type": "markdown",
   "id": "73daf2bc",
   "metadata": {},
   "source": [
    "## Preprocessing Step(Preparing the Data)"
   ]
  },
  {
   "cell_type": "code",
   "execution_count": 1,
   "id": "d38fd4e2",
   "metadata": {},
   "outputs": [],
   "source": [
    "#make the necessary imports\n",
    "import numpy as np\n",
    "import pandas as pd\n",
    "from sklearn.svm import SVC #importing sklearn's svm module\n",
    "from sklearn.metrics import accuracy_score #importing accuracy_score func from sklearn's metrics module"
   ]
  },
  {
   "cell_type": "code",
   "execution_count": 2,
   "id": "2f75c54a",
   "metadata": {},
   "outputs": [],
   "source": [
    "fil= open(\"features.train.txt\") #opening the file\n",
    "train=[]\n",
    "for row in fil.readlines(): #reading the file line by line \n",
    "    train.append((row.strip()).split()) #to get the values tuple by tuple without any whitespaces\n",
    "fil.close()\n",
    "#after this train will contain all the data in form of a numpy array\n",
    "\n",
    "Train = pd.DataFrame(train,columns=['label','intensity','symmetry']) #converting it into a dataframe\n",
    "Train['label'] = Train['label'].astype(float).astype(int)\n",
    "Train[['intensity','symmetry']] = Train[['intensity','symmetry']].astype(float)\n",
    "#doing some type conversions"
   ]
  },
  {
   "cell_type": "code",
   "execution_count": 3,
   "id": "57c53863",
   "metadata": {},
   "outputs": [
    {
     "data": {
      "text/html": [
       "<div>\n",
       "<style scoped>\n",
       "    .dataframe tbody tr th:only-of-type {\n",
       "        vertical-align: middle;\n",
       "    }\n",
       "\n",
       "    .dataframe tbody tr th {\n",
       "        vertical-align: top;\n",
       "    }\n",
       "\n",
       "    .dataframe thead th {\n",
       "        text-align: right;\n",
       "    }\n",
       "</style>\n",
       "<table border=\"1\" class=\"dataframe\">\n",
       "  <thead>\n",
       "    <tr style=\"text-align: right;\">\n",
       "      <th></th>\n",
       "      <th>label</th>\n",
       "      <th>intensity</th>\n",
       "      <th>symmetry</th>\n",
       "    </tr>\n",
       "  </thead>\n",
       "  <tbody>\n",
       "    <tr>\n",
       "      <th>0</th>\n",
       "      <td>6</td>\n",
       "      <td>0.341092</td>\n",
       "      <td>-4.528937</td>\n",
       "    </tr>\n",
       "    <tr>\n",
       "      <th>1</th>\n",
       "      <td>5</td>\n",
       "      <td>0.444131</td>\n",
       "      <td>-5.496812</td>\n",
       "    </tr>\n",
       "    <tr>\n",
       "      <th>2</th>\n",
       "      <td>4</td>\n",
       "      <td>0.231002</td>\n",
       "      <td>-2.886750</td>\n",
       "    </tr>\n",
       "    <tr>\n",
       "      <th>3</th>\n",
       "      <td>7</td>\n",
       "      <td>0.200275</td>\n",
       "      <td>-3.534375</td>\n",
       "    </tr>\n",
       "    <tr>\n",
       "      <th>4</th>\n",
       "      <td>3</td>\n",
       "      <td>0.291936</td>\n",
       "      <td>-4.352062</td>\n",
       "    </tr>\n",
       "    <tr>\n",
       "      <th>...</th>\n",
       "      <td>...</td>\n",
       "      <td>...</td>\n",
       "      <td>...</td>\n",
       "    </tr>\n",
       "    <tr>\n",
       "      <th>7286</th>\n",
       "      <td>3</td>\n",
       "      <td>0.296178</td>\n",
       "      <td>-2.558250</td>\n",
       "    </tr>\n",
       "    <tr>\n",
       "      <th>7287</th>\n",
       "      <td>3</td>\n",
       "      <td>0.252795</td>\n",
       "      <td>-3.110500</td>\n",
       "    </tr>\n",
       "    <tr>\n",
       "      <th>7288</th>\n",
       "      <td>3</td>\n",
       "      <td>0.393705</td>\n",
       "      <td>-2.921187</td>\n",
       "    </tr>\n",
       "    <tr>\n",
       "      <th>7289</th>\n",
       "      <td>0</td>\n",
       "      <td>0.597590</td>\n",
       "      <td>-2.258062</td>\n",
       "    </tr>\n",
       "    <tr>\n",
       "      <th>7290</th>\n",
       "      <td>1</td>\n",
       "      <td>0.276221</td>\n",
       "      <td>-0.916250</td>\n",
       "    </tr>\n",
       "  </tbody>\n",
       "</table>\n",
       "<p>7291 rows × 3 columns</p>\n",
       "</div>"
      ],
      "text/plain": [
       "      label  intensity  symmetry\n",
       "0         6   0.341092 -4.528937\n",
       "1         5   0.444131 -5.496812\n",
       "2         4   0.231002 -2.886750\n",
       "3         7   0.200275 -3.534375\n",
       "4         3   0.291936 -4.352062\n",
       "...     ...        ...       ...\n",
       "7286      3   0.296178 -2.558250\n",
       "7287      3   0.252795 -3.110500\n",
       "7288      3   0.393705 -2.921187\n",
       "7289      0   0.597590 -2.258062\n",
       "7290      1   0.276221 -0.916250\n",
       "\n",
       "[7291 rows x 3 columns]"
      ]
     },
     "execution_count": 3,
     "metadata": {},
     "output_type": "execute_result"
    }
   ],
   "source": [
    "Train"
   ]
  },
  {
   "cell_type": "code",
   "execution_count": 4,
   "id": "5496fdc5",
   "metadata": {},
   "outputs": [],
   "source": [
    "#we will perform similar steps for test as well\n",
    "fil= open(\"features.test.txt\")\n",
    "test=[]\n",
    "for row in fil.readlines():\n",
    "    test.append((row.strip()).split())\n",
    "fil.close()\n",
    "\n",
    "Test = pd.DataFrame(test,columns=['label','intensity','symmetry'])\n",
    "Test['label'] = Test['label'].astype(float).astype(int)\n",
    "Test[['intensity','symmetry']] = Test[['intensity','symmetry']].astype(float)"
   ]
  },
  {
   "cell_type": "code",
   "execution_count": 5,
   "id": "0cabd402",
   "metadata": {},
   "outputs": [
    {
     "data": {
      "text/html": [
       "<div>\n",
       "<style scoped>\n",
       "    .dataframe tbody tr th:only-of-type {\n",
       "        vertical-align: middle;\n",
       "    }\n",
       "\n",
       "    .dataframe tbody tr th {\n",
       "        vertical-align: top;\n",
       "    }\n",
       "\n",
       "    .dataframe thead th {\n",
       "        text-align: right;\n",
       "    }\n",
       "</style>\n",
       "<table border=\"1\" class=\"dataframe\">\n",
       "  <thead>\n",
       "    <tr style=\"text-align: right;\">\n",
       "      <th></th>\n",
       "      <th>label</th>\n",
       "      <th>intensity</th>\n",
       "      <th>symmetry</th>\n",
       "    </tr>\n",
       "  </thead>\n",
       "  <tbody>\n",
       "    <tr>\n",
       "      <th>0</th>\n",
       "      <td>9</td>\n",
       "      <td>0.272178</td>\n",
       "      <td>-4.847937</td>\n",
       "    </tr>\n",
       "    <tr>\n",
       "      <th>1</th>\n",
       "      <td>6</td>\n",
       "      <td>0.265133</td>\n",
       "      <td>-5.102000</td>\n",
       "    </tr>\n",
       "    <tr>\n",
       "      <th>2</th>\n",
       "      <td>3</td>\n",
       "      <td>0.335926</td>\n",
       "      <td>-2.921562</td>\n",
       "    </tr>\n",
       "    <tr>\n",
       "      <th>3</th>\n",
       "      <td>6</td>\n",
       "      <td>0.264850</td>\n",
       "      <td>-4.156625</td>\n",
       "    </tr>\n",
       "    <tr>\n",
       "      <th>4</th>\n",
       "      <td>6</td>\n",
       "      <td>0.345338</td>\n",
       "      <td>-6.718438</td>\n",
       "    </tr>\n",
       "    <tr>\n",
       "      <th>...</th>\n",
       "      <td>...</td>\n",
       "      <td>...</td>\n",
       "      <td>...</td>\n",
       "    </tr>\n",
       "    <tr>\n",
       "      <th>2002</th>\n",
       "      <td>3</td>\n",
       "      <td>0.237842</td>\n",
       "      <td>-4.052688</td>\n",
       "    </tr>\n",
       "    <tr>\n",
       "      <th>2003</th>\n",
       "      <td>9</td>\n",
       "      <td>0.265125</td>\n",
       "      <td>-3.630500</td>\n",
       "    </tr>\n",
       "    <tr>\n",
       "      <th>2004</th>\n",
       "      <td>4</td>\n",
       "      <td>0.308857</td>\n",
       "      <td>-5.365188</td>\n",
       "    </tr>\n",
       "    <tr>\n",
       "      <th>2005</th>\n",
       "      <td>0</td>\n",
       "      <td>0.509971</td>\n",
       "      <td>-2.010000</td>\n",
       "    </tr>\n",
       "    <tr>\n",
       "      <th>2006</th>\n",
       "      <td>1</td>\n",
       "      <td>0.188977</td>\n",
       "      <td>-0.781312</td>\n",
       "    </tr>\n",
       "  </tbody>\n",
       "</table>\n",
       "<p>2007 rows × 3 columns</p>\n",
       "</div>"
      ],
      "text/plain": [
       "      label  intensity  symmetry\n",
       "0         9   0.272178 -4.847937\n",
       "1         6   0.265133 -5.102000\n",
       "2         3   0.335926 -2.921562\n",
       "3         6   0.264850 -4.156625\n",
       "4         6   0.345338 -6.718438\n",
       "...     ...        ...       ...\n",
       "2002      3   0.237842 -4.052688\n",
       "2003      9   0.265125 -3.630500\n",
       "2004      4   0.308857 -5.365188\n",
       "2005      0   0.509971 -2.010000\n",
       "2006      1   0.188977 -0.781312\n",
       "\n",
       "[2007 rows x 3 columns]"
      ]
     },
     "execution_count": 5,
     "metadata": {},
     "output_type": "execute_result"
    }
   ],
   "source": [
    "Test"
   ]
  },
  {
   "cell_type": "code",
   "execution_count": 6,
   "id": "1bfe8cd8",
   "metadata": {},
   "outputs": [],
   "source": [
    "#as we only want the rows with label values 1 or 5\n",
    "#so filtering based on that \n",
    "filtered_train = Train[(Train['label'] == 1) | (Train['label'] == 5)]\n",
    "filtered_test = Test[(Test['label'] == 1) | (Test['label'] == 5)]"
   ]
  },
  {
   "cell_type": "code",
   "execution_count": 7,
   "id": "13e56be8",
   "metadata": {},
   "outputs": [
    {
     "data": {
      "text/html": [
       "<div>\n",
       "<style scoped>\n",
       "    .dataframe tbody tr th:only-of-type {\n",
       "        vertical-align: middle;\n",
       "    }\n",
       "\n",
       "    .dataframe tbody tr th {\n",
       "        vertical-align: top;\n",
       "    }\n",
       "\n",
       "    .dataframe thead th {\n",
       "        text-align: right;\n",
       "    }\n",
       "</style>\n",
       "<table border=\"1\" class=\"dataframe\">\n",
       "  <thead>\n",
       "    <tr style=\"text-align: right;\">\n",
       "      <th></th>\n",
       "      <th>label</th>\n",
       "      <th>intensity</th>\n",
       "      <th>symmetry</th>\n",
       "    </tr>\n",
       "  </thead>\n",
       "  <tbody>\n",
       "    <tr>\n",
       "      <th>1</th>\n",
       "      <td>5</td>\n",
       "      <td>0.444131</td>\n",
       "      <td>-5.496812</td>\n",
       "    </tr>\n",
       "    <tr>\n",
       "      <th>7</th>\n",
       "      <td>1</td>\n",
       "      <td>0.123043</td>\n",
       "      <td>-0.707875</td>\n",
       "    </tr>\n",
       "    <tr>\n",
       "      <th>9</th>\n",
       "      <td>1</td>\n",
       "      <td>0.113859</td>\n",
       "      <td>-0.931375</td>\n",
       "    </tr>\n",
       "    <tr>\n",
       "      <th>12</th>\n",
       "      <td>1</td>\n",
       "      <td>0.115371</td>\n",
       "      <td>-0.386000</td>\n",
       "    </tr>\n",
       "    <tr>\n",
       "      <th>13</th>\n",
       "      <td>1</td>\n",
       "      <td>0.102281</td>\n",
       "      <td>-0.378812</td>\n",
       "    </tr>\n",
       "    <tr>\n",
       "      <th>...</th>\n",
       "      <td>...</td>\n",
       "      <td>...</td>\n",
       "      <td>...</td>\n",
       "    </tr>\n",
       "    <tr>\n",
       "      <th>7269</th>\n",
       "      <td>5</td>\n",
       "      <td>0.355293</td>\n",
       "      <td>-4.682750</td>\n",
       "    </tr>\n",
       "    <tr>\n",
       "      <th>7271</th>\n",
       "      <td>5</td>\n",
       "      <td>0.232881</td>\n",
       "      <td>-4.423813</td>\n",
       "    </tr>\n",
       "    <tr>\n",
       "      <th>7284</th>\n",
       "      <td>1</td>\n",
       "      <td>0.195104</td>\n",
       "      <td>-1.217937</td>\n",
       "    </tr>\n",
       "    <tr>\n",
       "      <th>7285</th>\n",
       "      <td>1</td>\n",
       "      <td>0.168846</td>\n",
       "      <td>-0.582250</td>\n",
       "    </tr>\n",
       "    <tr>\n",
       "      <th>7290</th>\n",
       "      <td>1</td>\n",
       "      <td>0.276221</td>\n",
       "      <td>-0.916250</td>\n",
       "    </tr>\n",
       "  </tbody>\n",
       "</table>\n",
       "<p>1561 rows × 3 columns</p>\n",
       "</div>"
      ],
      "text/plain": [
       "      label  intensity  symmetry\n",
       "1         5   0.444131 -5.496812\n",
       "7         1   0.123043 -0.707875\n",
       "9         1   0.113859 -0.931375\n",
       "12        1   0.115371 -0.386000\n",
       "13        1   0.102281 -0.378812\n",
       "...     ...        ...       ...\n",
       "7269      5   0.355293 -4.682750\n",
       "7271      5   0.232881 -4.423813\n",
       "7284      1   0.195104 -1.217937\n",
       "7285      1   0.168846 -0.582250\n",
       "7290      1   0.276221 -0.916250\n",
       "\n",
       "[1561 rows x 3 columns]"
      ]
     },
     "execution_count": 7,
     "metadata": {},
     "output_type": "execute_result"
    }
   ],
   "source": [
    "filtered_train"
   ]
  },
  {
   "cell_type": "code",
   "execution_count": 8,
   "id": "07bd12df",
   "metadata": {},
   "outputs": [
    {
     "data": {
      "text/html": [
       "<div>\n",
       "<style scoped>\n",
       "    .dataframe tbody tr th:only-of-type {\n",
       "        vertical-align: middle;\n",
       "    }\n",
       "\n",
       "    .dataframe tbody tr th {\n",
       "        vertical-align: top;\n",
       "    }\n",
       "\n",
       "    .dataframe thead th {\n",
       "        text-align: right;\n",
       "    }\n",
       "</style>\n",
       "<table border=\"1\" class=\"dataframe\">\n",
       "  <thead>\n",
       "    <tr style=\"text-align: right;\">\n",
       "      <th></th>\n",
       "      <th>label</th>\n",
       "      <th>intensity</th>\n",
       "      <th>symmetry</th>\n",
       "    </tr>\n",
       "  </thead>\n",
       "  <tbody>\n",
       "    <tr>\n",
       "      <th>16</th>\n",
       "      <td>1</td>\n",
       "      <td>0.159934</td>\n",
       "      <td>-1.742000</td>\n",
       "    </tr>\n",
       "    <tr>\n",
       "      <th>32</th>\n",
       "      <td>5</td>\n",
       "      <td>0.324840</td>\n",
       "      <td>-6.360563</td>\n",
       "    </tr>\n",
       "    <tr>\n",
       "      <th>36</th>\n",
       "      <td>5</td>\n",
       "      <td>0.251180</td>\n",
       "      <td>-4.389375</td>\n",
       "    </tr>\n",
       "    <tr>\n",
       "      <th>42</th>\n",
       "      <td>1</td>\n",
       "      <td>0.124609</td>\n",
       "      <td>-0.474438</td>\n",
       "    </tr>\n",
       "    <tr>\n",
       "      <th>45</th>\n",
       "      <td>1</td>\n",
       "      <td>0.219117</td>\n",
       "      <td>-0.904500</td>\n",
       "    </tr>\n",
       "    <tr>\n",
       "      <th>...</th>\n",
       "      <td>...</td>\n",
       "      <td>...</td>\n",
       "      <td>...</td>\n",
       "    </tr>\n",
       "    <tr>\n",
       "      <th>1988</th>\n",
       "      <td>5</td>\n",
       "      <td>0.445924</td>\n",
       "      <td>-5.343562</td>\n",
       "    </tr>\n",
       "    <tr>\n",
       "      <th>1989</th>\n",
       "      <td>1</td>\n",
       "      <td>0.177002</td>\n",
       "      <td>-0.955937</td>\n",
       "    </tr>\n",
       "    <tr>\n",
       "      <th>1992</th>\n",
       "      <td>5</td>\n",
       "      <td>0.384980</td>\n",
       "      <td>-5.086000</td>\n",
       "    </tr>\n",
       "    <tr>\n",
       "      <th>1998</th>\n",
       "      <td>5</td>\n",
       "      <td>0.339586</td>\n",
       "      <td>-4.722875</td>\n",
       "    </tr>\n",
       "    <tr>\n",
       "      <th>2006</th>\n",
       "      <td>1</td>\n",
       "      <td>0.188977</td>\n",
       "      <td>-0.781312</td>\n",
       "    </tr>\n",
       "  </tbody>\n",
       "</table>\n",
       "<p>424 rows × 3 columns</p>\n",
       "</div>"
      ],
      "text/plain": [
       "      label  intensity  symmetry\n",
       "16        1   0.159934 -1.742000\n",
       "32        5   0.324840 -6.360563\n",
       "36        5   0.251180 -4.389375\n",
       "42        1   0.124609 -0.474438\n",
       "45        1   0.219117 -0.904500\n",
       "...     ...        ...       ...\n",
       "1988      5   0.445924 -5.343562\n",
       "1989      1   0.177002 -0.955937\n",
       "1992      5   0.384980 -5.086000\n",
       "1998      5   0.339586 -4.722875\n",
       "2006      1   0.188977 -0.781312\n",
       "\n",
       "[424 rows x 3 columns]"
      ]
     },
     "execution_count": 8,
     "metadata": {},
     "output_type": "execute_result"
    }
   ],
   "source": [
    "filtered_test"
   ]
  },
  {
   "cell_type": "code",
   "execution_count": 9,
   "id": "6c295658",
   "metadata": {},
   "outputs": [],
   "source": [
    "#creating out training and testing samples\n",
    "\n",
    "X_train = filtered_train.drop('label',axis=1)\n",
    "y_train=filtered_train['label']\n",
    "\n",
    "X_test = filtered_test.drop('label',axis=1)\n",
    "y_test=filtered_test['label']"
   ]
  },
  {
   "cell_type": "markdown",
   "id": "27d45b6f",
   "metadata": {},
   "source": [
    "# 4. (a)"
   ]
  },
  {
   "cell_type": "code",
   "execution_count": 10,
   "id": "cbd6edac",
   "metadata": {},
   "outputs": [],
   "source": [
    "svc=SVC(kernel='linear')\n",
    "#we will be dealing with linear kernel here"
   ]
  },
  {
   "cell_type": "code",
   "execution_count": 11,
   "id": "5705ff98",
   "metadata": {},
   "outputs": [
    {
     "data": {
      "text/plain": [
       "SVC(kernel='linear')"
      ]
     },
     "execution_count": 11,
     "metadata": {},
     "output_type": "execute_result"
    }
   ],
   "source": [
    "svc.fit(X_train,y_train)\n",
    "#training the linear kernel model"
   ]
  },
  {
   "cell_type": "code",
   "execution_count": 12,
   "id": "8c3e87da",
   "metadata": {},
   "outputs": [],
   "source": [
    "preds=svc.predict(X_test)\n",
    "#making predictions and storing them in preds"
   ]
  },
  {
   "cell_type": "code",
   "execution_count": 13,
   "id": "8d2fef48",
   "metadata": {},
   "outputs": [
    {
     "name": "stdout",
     "output_type": "stream",
     "text": [
      "Accuracy: 0.9787735849056604\n"
     ]
    }
   ],
   "source": [
    "print(\"Accuracy: {}\".format(accuracy_score(y_test,preds)))\n",
    "#calculating the accuracy of the model on the testing set"
   ]
  },
  {
   "cell_type": "code",
   "execution_count": 14,
   "id": "7e42e1ec",
   "metadata": {},
   "outputs": [
    {
     "name": "stdout",
     "output_type": "stream",
     "text": [
      "Classwise count of support vectors: [14 14]\n",
      "\n",
      "\n",
      "Total number of support vectors: 28\n"
     ]
    }
   ],
   "source": [
    "print(\"Classwise count of support vectors: {}\".format(svc.n_support_))\n",
    "#for getting the number of suppport vectors for each class\n",
    "print(\"\\n\")\n",
    "print(\"Total number of support vectors: {}\".format(len(svc.support_vectors_)))\n",
    "#for getting the total count of the support vectors"
   ]
  },
  {
   "cell_type": "markdown",
   "id": "d6487e7a",
   "metadata": {},
   "source": [
    "# 4. (b)"
   ]
  },
  {
   "cell_type": "code",
   "execution_count": 15,
   "id": "87e6db1b",
   "metadata": {},
   "outputs": [],
   "source": [
    "#fuction that will print the accuracy and the number of support vectors taking the first K number as input\n",
    "def first_splits(K):\n",
    "    svc=SVC(kernel='linear')\n",
    "    svc.fit(X_train[:K],y_train[:K])\n",
    "    preds=svc.predict(X_test)\n",
    "    \n",
    "    print(\"Accuracy: {}\".format(accuracy_score(y_test,preds)))\n",
    "    #calculating the accuracy of the model on the testing set\n",
    "    print(\"\\n\")\n",
    "    \n",
    "    print(\"Classwise count of support vectors: {}\".format(svc.n_support_))\n",
    "    #for getting the number of suppport vectors for each class\n",
    "    print(\"\\n\")\n",
    "    \n",
    "    print(\"Total number of support vectors: {}\".format(len(svc.support_vectors_)))\n",
    "    #for getting the total count of the support vectors"
   ]
  },
  {
   "cell_type": "code",
   "execution_count": 16,
   "id": "1f666da6",
   "metadata": {},
   "outputs": [
    {
     "name": "stdout",
     "output_type": "stream",
     "text": [
      "Accuracy: 0.9811320754716981\n",
      "\n",
      "\n",
      "Classwise count of support vectors: [1 1]\n",
      "\n",
      "\n",
      "Total number of support vectors: 2\n"
     ]
    }
   ],
   "source": [
    "#for first 50\n",
    "first_splits(50)"
   ]
  },
  {
   "cell_type": "code",
   "execution_count": 17,
   "id": "13e37d1d",
   "metadata": {},
   "outputs": [
    {
     "name": "stdout",
     "output_type": "stream",
     "text": [
      "Accuracy: 0.9811320754716981\n",
      "\n",
      "\n",
      "Classwise count of support vectors: [2 2]\n",
      "\n",
      "\n",
      "Total number of support vectors: 4\n"
     ]
    }
   ],
   "source": [
    "#for first 100\n",
    "first_splits(100)"
   ]
  },
  {
   "cell_type": "code",
   "execution_count": 18,
   "id": "9d92857d",
   "metadata": {},
   "outputs": [
    {
     "name": "stdout",
     "output_type": "stream",
     "text": [
      "Accuracy: 0.9811320754716981\n",
      "\n",
      "\n",
      "Classwise count of support vectors: [4 4]\n",
      "\n",
      "\n",
      "Total number of support vectors: 8\n"
     ]
    }
   ],
   "source": [
    "#for first 200\n",
    "first_splits(200)"
   ]
  },
  {
   "cell_type": "code",
   "execution_count": 19,
   "id": "529b0996",
   "metadata": {},
   "outputs": [
    {
     "name": "stdout",
     "output_type": "stream",
     "text": [
      "Accuracy: 0.9811320754716981\n",
      "\n",
      "\n",
      "Classwise count of support vectors: [7 7]\n",
      "\n",
      "\n",
      "Total number of support vectors: 14\n"
     ]
    }
   ],
   "source": [
    "#for first 800\n",
    "first_splits(800)"
   ]
  },
  {
   "cell_type": "markdown",
   "id": "ab4c4767",
   "metadata": {},
   "source": [
    "# 4. (c)"
   ]
  },
  {
   "cell_type": "markdown",
   "id": "b1cbcb54",
   "metadata": {},
   "source": [
    "## (i)"
   ]
  },
  {
   "cell_type": "code",
   "execution_count": 20,
   "id": "76017557",
   "metadata": {},
   "outputs": [],
   "source": [
    "poly_svc_2 = SVC(kernel='poly',degree=2,C=0.0001,gamma=1,coef0=1)\n",
    "#polynomial kernel with degree=2, C=0.0001, gamma=1, coef0=1 because we want it of the form (1+xn^Txm)^Q"
   ]
  },
  {
   "cell_type": "code",
   "execution_count": 21,
   "id": "47ab5c5c",
   "metadata": {},
   "outputs": [
    {
     "name": "stdout",
     "output_type": "stream",
     "text": [
      "Training Error at Q=2 : 0.008968609865470878\n"
     ]
    }
   ],
   "source": [
    "print(\"Training Error at Q=2 : {}\".format(1-poly_svc_2.fit(X_train,y_train).score(X_train,y_train)))"
   ]
  },
  {
   "cell_type": "code",
   "execution_count": 22,
   "id": "f33ed28a",
   "metadata": {},
   "outputs": [
    {
     "name": "stdout",
     "output_type": "stream",
     "text": [
      "Training Error at Q=5 : 0.004484304932735439\n"
     ]
    }
   ],
   "source": [
    "poly_svc_5 = SVC(kernel='poly',degree=5,C=0.0001,gamma=1,coef0=1)\n",
    "#polynomial kernel with degree=5, C=0.0001, gamma=1, coef0=1 because we want it of the form (1+xn^Txm)^Q\n",
    "\n",
    "print(\"Training Error at Q=5 : {}\".format(1-poly_svc_5.fit(X_train,y_train).score(X_train,y_train)))"
   ]
  },
  {
   "cell_type": "markdown",
   "id": "82127637",
   "metadata": {},
   "source": [
    "#### False, Training error is higher at Q=2"
   ]
  },
  {
   "cell_type": "markdown",
   "id": "2502281a",
   "metadata": {},
   "source": [
    "## (ii)"
   ]
  },
  {
   "cell_type": "code",
   "execution_count": 23,
   "id": "f0ddb7e2",
   "metadata": {},
   "outputs": [
    {
     "name": "stdout",
     "output_type": "stream",
     "text": [
      "Classwise count of support vectors at Q=2: [38 38]\n",
      "Total Number of support vectors at Q=2 : 76\n",
      "\n",
      "\n",
      "Classwise count of support vectors at Q=5: [12 13]\n",
      "Total Number of support vectors at Q=5 : 25\n"
     ]
    }
   ],
   "source": [
    "poly_svc_2 = SVC(kernel='poly',degree=2,C=0.001,gamma=1,coef0=1)\n",
    "poly_svc_2.fit(X_train,y_train)\n",
    "print(\"Classwise count of support vectors at Q=2: {}\".format(poly_svc_2.n_support_))\n",
    "print(\"Total Number of support vectors at Q=2 : {}\".format(len(poly_svc_2.support_vectors_)))\n",
    "\n",
    "print(\"\\n\")\n",
    "\n",
    "poly_svc_5 = SVC(kernel='poly',degree=5,C=0.001,gamma=1,coef0=1)\n",
    "poly_svc_5.fit(X_train,y_train)\n",
    "print(\"Classwise count of support vectors at Q=5: {}\".format(poly_svc_5.n_support_))\n",
    "print(\"Total Number of support vectors at Q=5 : {}\".format(len(poly_svc_5.support_vectors_)))"
   ]
  },
  {
   "cell_type": "markdown",
   "id": "0b37e8a6",
   "metadata": {},
   "source": [
    "#### True, the number of support vector is lower at Q=5"
   ]
  },
  {
   "cell_type": "markdown",
   "id": "01058aa4",
   "metadata": {},
   "source": [
    "## (iii)"
   ]
  },
  {
   "cell_type": "code",
   "execution_count": 24,
   "id": "8d1b3fa6",
   "metadata": {},
   "outputs": [
    {
     "name": "stdout",
     "output_type": "stream",
     "text": [
      "Training error at Q=2 : 0.004484304932735439\n",
      "Training error at Q=5 : 0.0038436899423446302\n"
     ]
    }
   ],
   "source": [
    "poly_svc_2 = SVC(kernel='poly',degree=2,C=0.01,gamma=1,coef0=1)\n",
    "error_2 = 1 - poly_svc_2.fit(X_train,y_train).score(X_train,y_train)\n",
    "print(\"Training error at Q=2 : {}\".format(error_2))\n",
    "\n",
    "poly_svc_5 = SVC(kernel='poly',degree=5,C=0.01,gamma=1,coef0=1)\n",
    "error_5 = 1 - poly_svc_5.fit(X_train,y_train).score(X_train,y_train)\n",
    "print(\"Training error at Q=5 : {}\".format(error_5))"
   ]
  },
  {
   "cell_type": "markdown",
   "id": "98dfffbd",
   "metadata": {},
   "source": [
    "#### False, training error is lower at Q=5"
   ]
  },
  {
   "cell_type": "markdown",
   "id": "d46c7ae0",
   "metadata": {},
   "source": [
    "### (iv)"
   ]
  },
  {
   "cell_type": "code",
   "execution_count": 25,
   "id": "1172dca7",
   "metadata": {},
   "outputs": [
    {
     "name": "stdout",
     "output_type": "stream",
     "text": [
      "Testing error at Q=2 : 0.018867924528301883\n",
      "Testing error at Q=5 : 0.021226415094339646\n"
     ]
    }
   ],
   "source": [
    "poly_svc_2 = SVC(kernel='poly',degree=2,C=1,gamma=1,coef0=1)\n",
    "error_2 = 1 - poly_svc_2.fit(X_train,y_train).score(X_test,y_test)\n",
    "print(\"Testing error at Q=2 : {}\".format(error_2))\n",
    "\n",
    "poly_svc_5 = SVC(kernel='poly',degree=5,C=1,gamma=1,coef0=1)\n",
    "error_5 = 1 - poly_svc_5.fit(X_train,y_train).score(X_test,y_test)\n",
    "print(\"Testing error at Q=5 : {}\".format(error_5))"
   ]
  },
  {
   "cell_type": "markdown",
   "id": "147cb358",
   "metadata": {},
   "source": [
    "#### False, test error is higher at Q=5"
   ]
  },
  {
   "cell_type": "markdown",
   "id": "bdcc727b",
   "metadata": {},
   "source": [
    "# 4. (d)"
   ]
  },
  {
   "cell_type": "code",
   "execution_count": 26,
   "id": "f3d2c374",
   "metadata": {},
   "outputs": [],
   "source": [
    "#function that takes as input the value of C for the radial basis function and returns the Train and Test errors\n",
    "def radial_basis_svm(C_val):\n",
    "    rbf_train = SVC(kernel='rbf',C=C_val,gamma=1)\n",
    "    #because of we want the kernel of the form exp(||xn-xm||^2) so gamma=1\n",
    "    \n",
    "    error_train = 1 - rbf_train.fit(X_train,y_train).score(X_train,y_train)\n",
    "    print(\"Training error at C = {} : {}\".format(C_val,error_train))\n",
    "    \n",
    "    rbf_test = SVC(kernel='rbf',C=C_val,gamma=1)\n",
    "    error_test = 1 - rbf_test.fit(X_train,y_train).score(X_test,y_test)\n",
    "    print(\"Testing error at C = {} : {}\".format(C_val,error_test))"
   ]
  },
  {
   "cell_type": "code",
   "execution_count": 27,
   "id": "0899cf40",
   "metadata": {},
   "outputs": [
    {
     "name": "stdout",
     "output_type": "stream",
     "text": [
      "Training error at C = 0.01 : 0.0038436899423446302\n",
      "Testing error at C = 0.01 : 0.02358490566037741\n"
     ]
    }
   ],
   "source": [
    "radial_basis_svm(0.01)"
   ]
  },
  {
   "cell_type": "code",
   "execution_count": 28,
   "id": "0d91f9f8",
   "metadata": {},
   "outputs": [
    {
     "name": "stdout",
     "output_type": "stream",
     "text": [
      "Training error at C = 1 : 0.004484304932735439\n",
      "Testing error at C = 1 : 0.021226415094339646\n"
     ]
    }
   ],
   "source": [
    "radial_basis_svm(1)"
   ]
  },
  {
   "cell_type": "code",
   "execution_count": 29,
   "id": "6154847b",
   "metadata": {},
   "outputs": [
    {
     "name": "stdout",
     "output_type": "stream",
     "text": [
      "Training error at C = 100 : 0.0032030749519538215\n",
      "Testing error at C = 100 : 0.018867924528301883\n"
     ]
    }
   ],
   "source": [
    "radial_basis_svm(100)"
   ]
  },
  {
   "cell_type": "code",
   "execution_count": 30,
   "id": "b18083eb",
   "metadata": {},
   "outputs": [
    {
     "name": "stdout",
     "output_type": "stream",
     "text": [
      "Training error at C = 10000 : 0.002562459961563124\n",
      "Testing error at C = 10000 : 0.02358490566037741\n"
     ]
    }
   ],
   "source": [
    "radial_basis_svm(10000)"
   ]
  },
  {
   "cell_type": "code",
   "execution_count": 31,
   "id": "95c42bf8",
   "metadata": {},
   "outputs": [
    {
     "name": "stdout",
     "output_type": "stream",
     "text": [
      "Training error at C = 1000000 : 0.0006406149903908087\n",
      "Testing error at C = 1000000 : 0.02358490566037741\n"
     ]
    }
   ],
   "source": [
    "radial_basis_svm(1000000)"
   ]
  },
  {
   "cell_type": "markdown",
   "id": "23f45980",
   "metadata": {},
   "source": [
    "#### C=1000000 results in the lowest training error\n",
    "#### C=100 results in the lowest testing error"
   ]
  }
 ],
 "metadata": {
  "kernelspec": {
   "display_name": "Python 3",
   "language": "python",
   "name": "python3"
  },
  "language_info": {
   "codemirror_mode": {
    "name": "ipython",
    "version": 3
   },
   "file_extension": ".py",
   "mimetype": "text/x-python",
   "name": "python",
   "nbconvert_exporter": "python",
   "pygments_lexer": "ipython3",
   "version": "3.8.8"
  }
 },
 "nbformat": 4,
 "nbformat_minor": 5
}
